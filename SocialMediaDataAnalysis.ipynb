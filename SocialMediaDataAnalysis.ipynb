{
 "cells": [
  {
   "cell_type": "markdown",
   "metadata": {},
   "source": [
    "## Introduction\n",
    "\n",
    "Social media has become a ubiquitous part of modern life, with platforms such as Instagram, Twitter, and Facebook serving as essential communication channels. Social media data sets are vast and complex, making analysis a challenging task for businesses and researchers alike. In this project, we explore a simulated social media, for example Tweets, data set to understand trends in likes across different categories.\n",
    "\n",
    "## Prerequisites\n",
    "\n",
    "To follow along with this project, you should have a basic understanding of Python programming and data analysis concepts. In addition, you may want to use the following packages in your Python environment:\n",
    "\n",
    "- pandas\n",
    "- Matplotlib\n",
    "- ...\n",
    "\n",
    "These packages should already be installed in Coursera's Jupyter Notebook environment, however if you'd like to install additional packages that are not included in this environment or are working off platform you can install additional packages using `!pip install packagename` within a notebook cell such as:\n",
    "\n",
    "- `!pip install pandas`\n",
    "- `!pip install matplotlib`\n",
    "\n",
    "## Project Scope\n",
    "\n",
    "The objective of this project is to analyze tweets (or other social media data) and gain insights into user engagement. We will explore the data set using visualization techniques to understand the distribution of likes across different categories. Finally, we will analyze the data to draw conclusions about the most popular categories and the overall engagement on the platform.\n",
    "\n",
    "## Step 1: Importing Required Libraries\n",
    "\n",
    "As the name suggests, the first step is to import all the necessary libraries that will be used in the project. In this case, we need pandas, numpy, matplotlib, seaborn, and random libraries.\n",
    "\n",
    "Pandas is a library used for data manipulation and analysis. Numpy is a library used for numerical computations. Matplotlib is a library used for data visualization. Seaborn is a library used for statistical data visualization. Random is a library used to generate random numbers."
   ]
  },
  {
   "cell_type": "markdown",
   "metadata": {},
   "source": [
    "# Clean & Analyze Social Media"
   ]
  },
  {
   "cell_type": "code",
   "execution_count": 34,
   "metadata": {},
   "outputs": [],
   "source": [
    "import pandas as pd\n",
    "import numpy as np\n",
    "import matplotlib.pyplot as plt\n",
    "import seaborn as sns\n",
    "import random\n",
    "from scipy import stats"
   ]
  },
  {
   "cell_type": "code",
   "execution_count": 8,
   "metadata": {},
   "outputs": [
    {
     "name": "stdout",
     "output_type": "stream",
     "text": [
      "Date: DatetimeIndex(['2021-01-01', '2021-01-02', '2021-01-03', '2021-01-04',\n",
      "               '2021-01-05'],\n",
      "              dtype='datetime64[ns]', freq='D') ... DatetimeIndex(['2023-09-23', '2023-09-24', '2023-09-25', '2023-09-26',\n",
      "               '2023-09-27'],\n",
      "              dtype='datetime64[ns]', freq='D')\n",
      "Category: ['Health', 'Culture', 'Fashion', 'Culture', 'Fitness'] ... ['Travel', 'Fitness', 'Family', 'Fitness', 'Food']\n",
      "Likes: [2299 6967 3206  493  452] ... [ 538 2918 5749 9608  716]\n"
     ]
    }
   ],
   "source": [
    "categories = ['Food', 'Travel', 'Fashion', 'Fitness', 'Music', 'Culture', 'Family', 'Health']\n",
    "n = 1000 # no. of data points\n",
    "data = { 'Date': pd.date_range('2021-01-01', periods=n), 'Category': [random.choice(categories) for _ in range(n)], 'Likes': np.random.randint(0, 10000, size=n)}\n",
    "# Printing the first 5 items for each key \n",
    "for key in data:\n",
    "    print(f\"{key}: {data[key][:5]} ... {data[key][-5:]}\")"
   ]
  },
  {
   "cell_type": "code",
   "execution_count": 9,
   "metadata": {},
   "outputs": [
    {
     "name": "stdout",
     "output_type": "stream",
     "text": [
      "          Date Category  Likes\n",
      "0   2021-01-01   Health   2299\n",
      "1   2021-01-02  Culture   6967\n",
      "2   2021-01-03  Fashion   3206\n",
      "3   2021-01-04  Culture    493\n",
      "4   2021-01-05  Fitness    452\n",
      "..         ...      ...    ...\n",
      "995 2023-09-23   Travel    538\n",
      "996 2023-09-24  Fitness   2918\n",
      "997 2023-09-25   Family   5749\n",
      "998 2023-09-26  Fitness   9608\n",
      "999 2023-09-27     Food    716\n",
      "\n",
      "[1000 rows x 3 columns]\n"
     ]
    }
   ],
   "source": [
    "#creating & printing the dataframe\n",
    "df = pd.DataFrame(data)\n",
    "print(df)"
   ]
  },
  {
   "cell_type": "code",
   "execution_count": 11,
   "metadata": {},
   "outputs": [
    {
     "name": "stdout",
     "output_type": "stream",
     "text": [
      "First 5 elements: \n",
      "         Date Category  Likes\n",
      "0 2021-01-01   Health   2299\n",
      "1 2021-01-02  Culture   6967\n",
      "2 2021-01-03  Fashion   3206\n",
      "3 2021-01-04  Culture    493\n",
      "4 2021-01-05  Fitness    452\n",
      "<class 'pandas.core.frame.DataFrame'>\n",
      "RangeIndex: 1000 entries, 0 to 999\n",
      "Data columns (total 3 columns):\n",
      " #   Column    Non-Null Count  Dtype         \n",
      "---  ------    --------------  -----         \n",
      " 0   Date      1000 non-null   datetime64[ns]\n",
      " 1   Category  1000 non-null   object        \n",
      " 2   Likes     1000 non-null   int64         \n",
      "dtypes: datetime64[ns](1), int64(1), object(1)\n",
      "memory usage: 23.6+ KB\n",
      "\n",
      "Information of dataframe:\n",
      " None\n",
      "\n",
      "Description of the DataFrame:\n",
      "              Likes\n",
      "count  1000.000000\n",
      "mean   4878.973000\n",
      "std    2867.873953\n",
      "min      17.000000\n",
      "25%    2348.750000\n",
      "50%    4792.000000\n",
      "75%    7271.250000\n",
      "max    9994.000000\n",
      "Count of each 'Category' element:\n",
      " Fashion    145\n",
      "Food       135\n",
      "Family     133\n",
      "Fitness    122\n",
      "Health     121\n",
      "Culture    120\n",
      "Music      112\n",
      "Travel     112\n",
      "Name: Category, dtype: int64\n"
     ]
    }
   ],
   "source": [
    "# Print the details of the DataFrame\n",
    "print('First 5 elements: \\n',df.head())\n",
    "print('\\nInformation of dataframe:\\n',df.info())\n",
    "print('\\nDescription of the DataFrame:\\n',df.describe())\n",
    "print(\"Count of each 'Category' element:\\n\",df['Category'].value_counts())"
   ]
  },
  {
   "cell_type": "code",
   "execution_count": 12,
   "metadata": {},
   "outputs": [
    {
     "name": "stdout",
     "output_type": "stream",
     "text": [
      "          Date Category  Likes\n",
      "0   2021-01-01   Health   2299\n",
      "1   2021-01-02  Culture   6967\n",
      "2   2021-01-03  Fashion   3206\n",
      "3   2021-01-04  Culture    493\n",
      "4   2021-01-05  Fitness    452\n",
      "..         ...      ...    ...\n",
      "995 2023-09-23   Travel    538\n",
      "996 2023-09-24  Fitness   2918\n",
      "997 2023-09-25   Family   5749\n",
      "998 2023-09-26  Fitness   9608\n",
      "999 2023-09-27     Food    716\n",
      "\n",
      "[1000 rows x 3 columns]\n"
     ]
    }
   ],
   "source": [
    "#clean the data by removing all the null values & duplicates, then converting Dates to datetime format & likes to integer format\n",
    "df = df.dropna()\n",
    "df = df.drop_duplicates()\n",
    "df['Date'] = pd.to_datetime(df['Date'])\n",
    "df['Likes'] = df['Likes'].astype(int)\n",
    "print(df)"
   ]
  },
  {
   "cell_type": "code",
   "execution_count": 15,
   "metadata": {},
   "outputs": [
    {
     "data": {
      "image/png": "[encoded data removed]",
      "text/plain": [
       "<Figure size 720x432 with 1 Axes>"
      ]
     },
     "metadata": {
      "needs_background": "light"
     },
     "output_type": "display_data"
    }
   ],
   "source": [
    "# Visualize the data as a histogram plot of the 'Likes'\n",
    "plt.figure(figsize=(10, 6))\n",
    "sns.distplot(df['Likes'], bins=30, color='skyblue', kde=False)\n",
    "plt.title('Distribution of Likes')\n",
    "plt.xlabel('Likes')\n",
    "plt.ylabel('Frequency')\n",
    "plt.grid(True)  # Add a grid\n",
    "plt.legend(['Likes'])  # Add a legend\n",
    "plt.show()"
   ]
  },
  {
   "cell_type": "code",
   "execution_count": 18,
   "metadata": {},
   "outputs": [
    {
     "data": {
      "image/png": "[encoded data removed]",
      "text/plain": [
       "<Figure size 720x432 with 1 Axes>"
      ]
     },
     "metadata": {
      "needs_background": "light"
     },
     "output_type": "display_data"
    }
   ],
   "source": [
    "# Visualize the count of each 'Category'\n",
    "plt.figure(figsize=(10, 6))\n",
    "sns.countplot(x='Category', data=df, order=df['Category'].value_counts().index)\n",
    "plt.title('Count of each Category')\n",
    "plt.xlabel('Category')\n",
    "plt.ylabel('Count')\n",
    "plt.xticks(rotation=90)\n",
    "plt.show()"
   ]
  },
  {
   "cell_type": "code",
   "execution_count": 19,
   "metadata": {},
   "outputs": [
    {
     "data": {
      "image/png": "[encoded data removed]",
      "text/plain": [
       "<Figure size 720x432 with 1 Axes>"
      ]
     },
     "metadata": {
      "needs_background": "light"
     },
     "output_type": "display_data"
    }
   ],
   "source": [
    "# Visualization of statististical data as boxplots\n",
    "plt.figure(figsize=(10, 6))\n",
    "sns.boxplot(x='Category', y='Likes', data=df)\n",
    "plt.title('Boxplot of Likes by Category')\n",
    "plt.xlabel('Category')\n",
    "plt.ylabel('Likes')\n",
    "plt.xticks(rotation=90)\n",
    "plt.show()"
   ]
  },
  {
   "cell_type": "code",
   "execution_count": 26,
   "metadata": {},
   "outputs": [
    {
     "name": "stdout",
     "output_type": "stream",
     "text": [
      "Mean Likes =  4878.973\n",
      "\n",
      "Mean 'Likes' for each 'Category':\n",
      "Category\n",
      "Culture    4997.433333\n",
      "Family     4871.729323\n",
      "Fashion    4558.393103\n",
      "Fitness    4968.172131\n",
      "Food       5022.925926\n",
      "Health     4799.619835\n",
      "Music      4574.098214\n",
      "Travel     5295.616071\n",
      "Name: Likes, dtype: float64\n"
     ]
    },
    {
     "data": {
      "image/png": "[encoded data removed]",
      "text/plain": [
       "<Figure size 720x432 with 1 Axes>"
      ]
     },
     "metadata": {
      "needs_background": "light"
     },
     "output_type": "display_data"
    }
   ],
   "source": [
    "# Print the mean of 'Likes'all together & for each 'Category'\n",
    "mean_likes = df['Likes'].mean()\n",
    "print(\"Mean Likes = \", mean_likes)\n",
    "mean_likes_category = df.groupby('Category')['Likes'].mean()\n",
    "print(\"\\nMean 'Likes' for each 'Category':\")\n",
    "print(mean_likes_category)\n",
    "plt.figure(figsize=(10, 6))\n",
    "mean_likes_category.plot(kind='bar', color='skyblue', edgecolor='black')\n",
    "plt.title('Mean Number of Likes for Each Category')\n",
    "plt.xlabel('Category')\n",
    "plt.ylabel('Mean Likes')\n",
    "plt.show()"
   ]
  },
  {
   "cell_type": "markdown",
   "metadata": {},
   "source": [
    "Conclusion\n",
    "\n",
    "    The analysis of the mean 'Likes' for each category showed considerable variations, indicating that some are more popular than others. The most popular categories were identified by calculating the average & total number of \"Likes\" for every category. Here, travel is more popular than others from the statistical analysis of the randomly generated data.\n",
    "    The study offered insightful information on how engaged certain categories were with the social media network. Future tactics for content generation and optimization can benefit from these findings."
   ]
  }
 ],
 "metadata": {
  "kernelspec": {
   "display_name": "Python 3",
   "language": "python",
   "name": "python3"
  },
  "language_info": {
   "codemirror_mode": {
    "name": "ipython",
    "version": 3
   },
   "file_extension": ".py",
   "mimetype": "text/x-python",
   "name": "python",
   "nbconvert_exporter": "python",
   "pygments_lexer": "ipython3",
   "version": "3.7.6"
  }
 },
 "nbformat": 4,
 "nbformat_minor": 4
}
